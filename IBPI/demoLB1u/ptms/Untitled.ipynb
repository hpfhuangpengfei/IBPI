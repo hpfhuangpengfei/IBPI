{
 "cells": [
  {
   "cell_type": "code",
   "execution_count": 1,
   "id": "2486c851-07fa-4508-91e9-60e1f0f04506",
   "metadata": {
    "execution": {
     "iopub.execute_input": "2023-05-13T08:29:58.713631Z",
     "iopub.status.busy": "2023-05-13T08:29:58.713299Z",
     "iopub.status.idle": "2023-05-13T08:30:07.169702Z",
     "shell.execute_reply": "2023-05-13T08:30:07.168750Z",
     "shell.execute_reply.started": "2023-05-13T08:29:58.713591Z"
    }
   },
   "outputs": [
    {
     "name": "stdout",
     "output_type": "stream",
     "text": [
      "  adding: chinese_labert-lite-std-512/ (stored 0%)\n",
      "  adding: chinese_labert-lite-std-512/.ipynb_checkpoints/ (stored 0%)\n",
      "  adding: chinese_labert-lite-std-512/.ipynb_checkpoints/labert_config-checkpoint.json (deflated 56%)\n",
      "  adding: chinese_labert-lite-std-512/.ipynb_checkpoints/model_info-checkpoint.json (deflated 51%)\n",
      "  adding: chinese_labert-lite-std-512/checkpoint (deflated 42%)\n",
      "  adding: chinese_labert-lite-std-512/labert_config.json (deflated 56%)\n",
      "  adding: chinese_labert-lite-std-512/lexicon.txt (deflated 40%)\n",
      "  adding: chinese_labert-lite-std-512/model.ckpt.data-00000-of-00001 (deflated 7%)\n",
      "  adding: chinese_labert-lite-std-512/model.ckpt.index (deflated 64%)\n",
      "  adding: chinese_labert-lite-std-512/model.ckpt.meta (deflated 92%)\n",
      "  adding: chinese_labert-lite-std-512/model_info.json (deflated 51%)\n",
      "  adding: chinese_labert-lite-std-512/vocab.bin (stored 0%)\n",
      "  adding: chinese_labert-lite-std-512/vocab.txt (deflated 48%)\n"
     ]
    }
   ],
   "source": [
    "!zip -r pre.zip chinese_labert-lite-std-512/"
   ]
  },
  {
   "cell_type": "code",
   "execution_count": 2,
   "id": "abbe7370-e6d1-4ff8-8228-1cc1e42822a5",
   "metadata": {
    "execution": {
     "iopub.execute_input": "2023-05-14T22:38:13.092360Z",
     "iopub.status.busy": "2023-05-14T22:38:13.091829Z",
     "iopub.status.idle": "2023-05-14T22:38:13.336969Z",
     "shell.execute_reply": "2023-05-14T22:38:13.335515Z",
     "shell.execute_reply.started": "2023-05-14T22:38:13.092282Z"
    },
    "tags": []
   },
   "outputs": [
    {
     "name": "stdout",
     "output_type": "stream",
     "text": [
      "rm: cannot remove 'chinese_labert-base-std-512/': No such file or directory\n"
     ]
    }
   ],
   "source": [
    "!rm -r chinese_labert-base-std-512/"
   ]
  },
  {
   "cell_type": "code",
   "execution_count": null,
   "id": "de240b86-0973-4386-9397-5f827589a09e",
   "metadata": {},
   "outputs": [],
   "source": []
  }
 ],
 "metadata": {
  "kernelspec": {
   "display_name": "pure",
   "language": "python",
   "name": "hb"
  },
  "language_info": {
   "codemirror_mode": {
    "name": "ipython",
    "version": 3
   },
   "file_extension": ".py",
   "mimetype": "text/x-python",
   "name": "python",
   "nbconvert_exporter": "python",
   "pygments_lexer": "ipython3",
   "version": "3.6.12"
  }
 },
 "nbformat": 4,
 "nbformat_minor": 5
}
