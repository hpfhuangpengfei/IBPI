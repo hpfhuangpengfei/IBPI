{
 "cells": [
  {
   "cell_type": "code",
   "execution_count": 1,
   "id": "1a9660ac-5d74-4421-b049-7856e532b1da",
   "metadata": {
    "ExecutionIndicator": {
     "show": true
    },
    "execution": {
     "iopub.execute_input": "2023-05-14T08:51:51.091045Z",
     "iopub.status.busy": "2023-05-14T08:51:51.090453Z",
     "iopub.status.idle": "2023-05-14T08:51:54.702091Z",
     "shell.execute_reply": "2023-05-14T08:51:54.701203Z",
     "shell.execute_reply.started": "2023-05-14T08:51:51.091016Z"
    },
    "tags": []
   },
   "outputs": [],
   "source": [
    "new_data = []\n",
    "with open('train.txt') as f:\n",
    "    for i in f:\n",
    "        cut = i.replace('\\n', '').split(' ')\n",
    "        if len(cut) == 2:\n",
    "            if len(new_data) == 0:\n",
    "                if cut[1][0] == 'B':\n",
    "                    new_data.append(cut + [1,0])\n",
    "                else:\n",
    "                     new_data.append(cut + [0,0])\n",
    "                continue\n",
    "            \n",
    "            if cut[1][0] in ['O','B']:\n",
    "                if new_data[len(new_data) - 1][1][0] in ['I','B']:\n",
    "                    new_data[len(new_data) - 1][3] = 1\n",
    "                if cut[1][0] == 'B':\n",
    "                    new_data.append(cut + [1,0])\n",
    "                else:\n",
    "                    new_data.append(cut + [0,0])\n",
    "                continue\n",
    "            new_data.append(cut + [0,0])\n",
    "            continue\n",
    "        new_data.append(('#','#',0,0))\n",
    "            \n"
   ]
  },
  {
   "cell_type": "code",
   "execution_count": 2,
   "id": "e4a78b07-8ec4-4f86-b7ab-6b6d314ef7ff",
   "metadata": {
    "ExecutionIndicator": {
     "show": true
    },
    "execution": {
     "iopub.execute_input": "2023-05-14T08:51:54.704203Z",
     "iopub.status.busy": "2023-05-14T08:51:54.703847Z",
     "iopub.status.idle": "2023-05-14T08:51:56.536296Z",
     "shell.execute_reply": "2023-05-14T08:51:56.535469Z",
     "shell.execute_reply.started": "2023-05-14T08:51:54.704178Z"
    },
    "tags": []
   },
   "outputs": [],
   "source": [
    "with open('train_data_BIO.txt','w') as f:\n",
    "    for i in new_data:\n",
    "        if i[0] == '#':\n",
    "            f.write('\\n')\n",
    "            continue\n",
    "        f.write(' '.join([str(i_) for i_ in i]) + '\\n')\n",
    "\n",
    "        "
   ]
  },
  {
   "cell_type": "code",
   "execution_count": 3,
   "id": "b4df1189-8c78-43ad-9449-40ea2cadf750",
   "metadata": {
    "ExecutionIndicator": {
     "show": true
    },
    "execution": {
     "iopub.execute_input": "2023-05-14T08:51:56.540785Z",
     "iopub.status.busy": "2023-05-14T08:51:56.540080Z",
     "iopub.status.idle": "2023-05-14T08:51:56.891590Z",
     "shell.execute_reply": "2023-05-14T08:51:56.889838Z",
     "shell.execute_reply.started": "2023-05-14T08:51:56.540747Z"
    },
    "tags": []
   },
   "outputs": [],
   "source": [
    "new_data = []\n",
    "with open('validation.txt') as f:\n",
    "    for i in f:\n",
    "        cut = i.replace('\\n', '').split(' ')\n",
    "        if len(cut) == 2:\n",
    "            if len(new_data) == 0:\n",
    "                if cut[1][0] == 'B':\n",
    "                    new_data.append(cut + [1,0])\n",
    "                else:\n",
    "                     new_data.append(cut + [0,0])\n",
    "                continue\n",
    "            \n",
    "            if cut[1][0] in ['O','B']:\n",
    "                if new_data[len(new_data) - 1][1][0] in ['I','B']:\n",
    "                    new_data[len(new_data) - 1][3] = 1\n",
    "                if cut[1][0] == 'B':\n",
    "                    new_data.append(cut + [1,0])\n",
    "                else:\n",
    "                    new_data.append(cut + [0,0])\n",
    "                continue\n",
    "            new_data.append(cut + [0,0])\n",
    "            continue\n",
    "        new_data.append(('#','#',0,0))\n",
    "            \n"
   ]
  },
  {
   "cell_type": "code",
   "execution_count": 4,
   "id": "b29ec97b-6743-495f-8afe-058db0085ea0",
   "metadata": {
    "execution": {
     "iopub.execute_input": "2023-05-14T08:51:56.895407Z",
     "iopub.status.busy": "2023-05-14T08:51:56.894482Z",
     "iopub.status.idle": "2023-05-14T08:51:57.045971Z",
     "shell.execute_reply": "2023-05-14T08:51:57.045067Z",
     "shell.execute_reply.started": "2023-05-14T08:51:56.895374Z"
    },
    "tags": []
   },
   "outputs": [],
   "source": [
    "new_data\n",
    "with open('dev_data_BIO.txt','w') as f:\n",
    "    for i in new_data:\n",
    "        if i[0] == '#':\n",
    "            f.write('\\n')\n",
    "            continue\n",
    "        f.write(' '.join([str(i_) for i_ in i]) + '\\n')\n",
    "\n",
    "        "
   ]
  },
  {
   "cell_type": "code",
   "execution_count": null,
   "id": "dcb715ee-2d90-4377-85f6-3bc7181d8433",
   "metadata": {},
   "outputs": [],
   "source": []
  },
  {
   "cell_type": "code",
   "execution_count": 1,
   "id": "edc67f19-dd26-4074-90e8-a6f3434f5dda",
   "metadata": {
    "ExecutionIndicator": {
     "show": false
    },
    "execution": {
     "iopub.execute_input": "2023-05-14T22:01:01.046680Z",
     "iopub.status.busy": "2023-05-14T22:01:01.046213Z",
     "iopub.status.idle": "2023-05-14T22:01:01.407512Z",
     "shell.execute_reply": "2023-05-14T22:01:01.406171Z",
     "shell.execute_reply.started": "2023-05-14T22:01:01.046634Z"
    },
    "tags": []
   },
   "outputs": [],
   "source": [
    "!rm -r model10"
   ]
  },
  {
   "cell_type": "code",
   "execution_count": null,
   "id": "98632697-15fe-48b6-a2e4-1e8a4779b5fc",
   "metadata": {},
   "outputs": [],
   "source": []
  }
 ],
 "metadata": {
  "kernelspec": {
   "display_name": "torch",
   "language": "python",
   "name": "torch"
  },
  "language_info": {
   "codemirror_mode": {
    "name": "ipython",
    "version": 3
   },
   "file_extension": ".py",
   "mimetype": "text/x-python",
   "name": "python",
   "nbconvert_exporter": "python",
   "pygments_lexer": "ipython3",
   "version": "3.7.15"
  }
 },
 "nbformat": 4,
 "nbformat_minor": 5
}
