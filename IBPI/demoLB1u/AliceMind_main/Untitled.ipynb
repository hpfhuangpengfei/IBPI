{
 "cells": [
  {
   "cell_type": "code",
   "execution_count": 7,
   "id": "5c08921a-7bc8-4c9e-8eb9-fa88c74fdf7e",
   "metadata": {
    "ExecutionIndicator": {
     "show": true
    },
    "execution": {
     "iopub.execute_input": "2023-05-14T08:57:04.191182Z",
     "iopub.status.busy": "2023-05-14T08:57:04.190385Z",
     "iopub.status.idle": "2023-05-14T08:57:09.401731Z",
     "shell.execute_reply": "2023-05-14T08:57:09.398987Z",
     "shell.execute_reply.started": "2023-05-14T08:57:04.191138Z"
    },
    "tags": []
   },
   "outputs": [],
   "source": [
    "!rm -r V*"
   ]
  },
  {
   "cell_type": "code",
   "execution_count": null,
   "id": "d5eb6c8f-59ff-4d9f-a9cb-0a8c12ab3df0",
   "metadata": {},
   "outputs": [],
   "source": [
    "!rm -r C*"
   ]
  }
 ],
 "metadata": {
  "kernelspec": {
   "display_name": "torch",
   "language": "python",
   "name": "torch"
  },
  "language_info": {
   "codemirror_mode": {
    "name": "ipython",
    "version": 3
   },
   "file_extension": ".py",
   "mimetype": "text/x-python",
   "name": "python",
   "nbconvert_exporter": "python",
   "pygments_lexer": "ipython3",
   "version": "3.7.15"
  }
 },
 "nbformat": 4,
 "nbformat_minor": 5
}
