{
 "cells": [
  {
   "cell_type": "code",
   "execution_count": 7,
   "id": "2e30bde9-1fec-4d38-bbb5-9166be0f24d2",
   "metadata": {
    "ExecutionIndicator": {
     "show": true
    },
    "execution": {
     "iopub.execute_input": "2023-05-14T08:51:20.141494Z",
     "iopub.status.busy": "2023-05-14T08:51:20.141180Z",
     "iopub.status.idle": "2023-05-14T08:51:20.566146Z",
     "shell.execute_reply": "2023-05-14T08:51:20.564656Z",
     "shell.execute_reply.started": "2023-05-14T08:51:20.141456Z"
    },
    "tags": []
   },
   "outputs": [],
   "source": [
    "!rm -rf online_xie_data/"
   ]
  },
  {
   "cell_type": "code",
   "execution_count": 8,
   "id": "8e36ce27-21c9-4408-9d46-f2492a3b2b95",
   "metadata": {
    "execution": {
     "iopub.execute_input": "2023-05-14T08:52:18.196749Z",
     "iopub.status.busy": "2023-05-14T08:52:18.196359Z",
     "iopub.status.idle": "2023-05-14T08:52:18.207908Z",
     "shell.execute_reply": "2023-05-14T08:52:18.207102Z",
     "shell.execute_reply.started": "2023-05-14T08:52:18.196703Z"
    }
   },
   "outputs": [
    {
     "data": {
      "text/plain": [
       "'/mnt/workspace/algo-2/wxt/demoLB1u'"
      ]
     },
     "execution_count": 8,
     "metadata": {},
     "output_type": "execute_result"
    }
   ],
   "source": [
    "pwd"
   ]
  },
  {
   "cell_type": "code",
   "execution_count": null,
   "id": "245c9855-21af-49f8-9ec2-1d75707c8e51",
   "metadata": {},
   "outputs": [],
   "source": []
  }
 ],
 "metadata": {
  "kernelspec": {
   "display_name": "pure",
   "language": "python",
   "name": "hb"
  },
  "language_info": {
   "codemirror_mode": {
    "name": "ipython",
    "version": 3
   },
   "file_extension": ".py",
   "mimetype": "text/x-python",
   "name": "python",
   "nbconvert_exporter": "python",
   "pygments_lexer": "ipython3",
   "version": "3.6.12"
  }
 },
 "nbformat": 4,
 "nbformat_minor": 5
}
